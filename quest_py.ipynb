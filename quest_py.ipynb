{
  "nbformat": 4,
  "nbformat_minor": 0,
  "metadata": {
    "colab": {
      "provenance": [],
      "mount_file_id": "1HETNFQAkf0ROt6-qLf8-AltvotU5K7rA",
      "authorship_tag": "ABX9TyMfRkVMTVRYxqb3XptvxR/j",
      "include_colab_link": true
    },
    "kernelspec": {
      "name": "python3",
      "display_name": "Python 3"
    },
    "language_info": {
      "name": "python"
    }
  },
  "cells": [
    {
      "cell_type": "markdown",
      "metadata": {
        "id": "view-in-github",
        "colab_type": "text"
      },
      "source": [
        "<a href=\"https://colab.research.google.com/github/hope2rest/aiffel_on6/blob/main/quest_py.ipynb\" target=\"_parent\"><img src=\"https://colab.research.google.com/assets/colab-badge.svg\" alt=\"Open In Colab\"/></a>"
      ]
    },
    {
      "cell_type": "markdown",
      "source": [
        "### Google drive mout하기"
      ],
      "metadata": {
        "id": "k4nYUmfcHZsf"
      }
    },
    {
      "cell_type": "code",
      "execution_count": null,
      "metadata": {
        "id": "o8r4MihkC6I8"
      },
      "outputs": [],
      "source": [
        "# from google.colab import drive\n",
        "# drive.mount('/content/drive')"
      ]
    },
    {
      "cell_type": "markdown",
      "source": [
        "### 드라이브 내 원하는 경로로 이동"
      ],
      "metadata": {
        "id": "DiPfpl9FIbKi"
      }
    },
    {
      "cell_type": "code",
      "source": [
        "# cd \"/content/drive/My Drive/On6/quest_py\""
      ],
      "metadata": {
        "id": "6cuL4RMaIa8t"
      },
      "execution_count": null,
      "outputs": []
    },
    {
      "cell_type": "markdown",
      "source": [
        "### Git clone 하기"
      ],
      "metadata": {
        "id": "iEEPyuKgHeIn"
      }
    },
    {
      "cell_type": "code",
      "source": [
        "# !git clone {github 주소}"
      ],
      "metadata": {
        "id": "6M2Ju3WoHnWc"
      },
      "execution_count": null,
      "outputs": []
    },
    {
      "cell_type": "code",
      "source": [
        "# /content/drive/MyDrive/on6c/python_quest"
      ],
      "metadata": {
        "id": "WrhNRdZgPlvl"
      },
      "execution_count": null,
      "outputs": []
    },
    {
      "cell_type": "code",
      "source": [
        "# https://github.com/dlclxkzk87/AIFFEL_Quest.git"
      ],
      "metadata": {
        "id": "CiSbjiMjQCbC"
      },
      "execution_count": null,
      "outputs": []
    }
  ]
}